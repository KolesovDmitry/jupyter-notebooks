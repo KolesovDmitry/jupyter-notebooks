{
 "cells": [
  {
   "cell_type": "markdown",
   "metadata": {},
   "source": [
    "# Пример связки GRASS GIS и sklearn для задачи классификации"
   ]
  },
  {
   "cell_type": "markdown",
   "metadata": {},
   "source": [
    "## Обучающая выборка"
   ]
  },
  {
   "cell_type": "markdown",
   "metadata": {},
   "source": [
    "Сначала посмотрим на то, насколько вообще можно обучить модель, попытавшись переобучить ее. Т.е. для начала обучим систему без разбиения выборки на обучающую и тестовую, получившийся результат даст представление о верхней границе качества."
   ]
  },
  {
   "cell_type": "code",
   "execution_count": 1,
   "metadata": {},
   "outputs": [
    {
     "name": "stderr",
     "output_type": "stream",
     "text": [
      "/usr/local/lib/python2.7/dist-packages/pandas/core/computation/__init__.py:18: UserWarning: The installed version of numexpr 2.4.3 is not supported in pandas and will be not be used\n",
      "The minimum supported version is 2.4.6\n",
      "\n",
      "  ver=ver, min_ver=_MIN_NUMEXPR_VERSION), UserWarning)\n"
     ]
    }
   ],
   "source": [
    "import os\n",
    "import pickle\n",
    "\n",
    "import pandas as pd\n",
    "import numpy as np\n",
    "import sklearn as sk\n",
    "\n",
    "from sklearn.pipeline import Pipeline\n",
    "\n",
    "from sklearn.metrics import confusion_matrix\n",
    "\n",
    "from sklearn.model_selection import GridSearchCV"
   ]
  },
  {
   "cell_type": "code",
   "execution_count": 2,
   "metadata": {
    "collapsed": true
   },
   "outputs": [],
   "source": [
    "import grasslib\n",
    "\n",
    "from grasslib import GRASS"
   ]
  },
  {
   "cell_type": "code",
   "execution_count": 3,
   "metadata": {},
   "outputs": [],
   "source": [
    "# os.environ['LD_LIBRARY_PATH'] = '/usr/lib/grass74/lib'\n",
    "grs = GRASS(gisbase='/usr/lib/grass74', \n",
    "            dbase='/home/klsvd/GRASSDATA',\n",
    "            location='Landsat',\n",
    "            mapset='PERMANENT'\n",
    ")"
   ]
  },
  {
   "cell_type": "markdown",
   "metadata": {},
   "source": [
    "## Обучающая выборка"
   ]
  },
  {
   "cell_type": "markdown",
   "metadata": {},
   "source": [
    "Создадим обучающую выборку, которая будет классифицировать данные по рубкам за зиму 15-16 годов."
   ]
  },
  {
   "cell_type": "code",
   "execution_count": 4,
   "metadata": {},
   "outputs": [
    {
     "name": "stdout",
     "output_type": "stream",
     "text": [
      "projection: 1 (UTM)\n",
      "zone:       19\n",
      "datum:      wgs84\n",
      "ellipsoid:  wgs84\n",
      "north:      -1162785\n",
      "south:      -1395315\n",
      "west:       429885\n",
      "east:       658515\n",
      "nsres:      30\n",
      "ewres:      30\n",
      "rows:       7751\n",
      "cols:       7621\n",
      "cells:      59070371\n",
      "\n"
     ]
    }
   ],
   "source": [
    "print grs.grass.read_command('g.region', rast='B1', flags='p')"
   ]
  },
  {
   "cell_type": "markdown",
   "metadata": {},
   "source": [
    "Склеим слои с обучающими полигонами:"
   ]
  },
  {
   "cell_type": "code",
   "execution_count": 5,
   "metadata": {},
   "outputs": [
    {
     "name": "stdout",
     "output_type": "stream",
     "text": [
      "+-----------------------------------------------------------------------------+\n",
      "|                         RASTER MAP CATEGORY REPORT                          |\n",
      "|LOCATION: Landsat                                    Wed Aug 22 21:10:27 2018|\n",
      "|-----------------------------------------------------------------------------|\n",
      "|          north: -1162785    east: 658515                                    |\n",
      "|REGION    south: -1395315    west: 429885                                    |\n",
      "|          res:         30    res:      30                                    |\n",
      "|-----------------------------------------------------------------------------|\n",
      "|MASK: none                                                                   |\n",
      "|-----------------------------------------------------------------------------|\n",
      "|MAP: Rasterized vector map from values (train in PERMANENT)                  |\n",
      "|-----------------------------------------------------------------------------|\n",
      "|                       Category Information                         |    cell|\n",
      "|#|description                                                       |   count|\n",
      "|-----------------------------------------------------------------------------|\n",
      "|1|Value 1. . . . . . . . . . . . . . . . . . . . . . . . . . . . . .|     454|\n",
      "|2|Value 2. . . . . . . . . . . . . . . . . . . . . . . . . . . . . .|    4836|\n",
      "|*|no data. . . . . . . . . . . . . . . . . . . . . . . . . . . . . .|59065081|\n",
      "|-----------------------------------------------------------------------------|\n",
      "|TOTAL                                                               |59070371|\n",
      "+-----------------------------------------------------------------------------+\n",
      "\n"
     ]
    }
   ],
   "source": [
    "grs.grass.run_command('v.to.rast', \n",
    "                      input='test1', output='test1', \n",
    "                      use='val', value=1, \n",
    "                      overwrite=True)\n",
    "grs.grass.run_command('v.to.rast', \n",
    "                      input='test2', output='test2', \n",
    "                      use='val', value=2, \n",
    "                      overwrite=True)\n",
    "grs.grass.run_command('r.patch', input='test1,test2', output='train', overwrite=True)\n",
    "\n",
    "print grs.grass.read_command('r.report', map='train', units='c')"
   ]
  },
  {
   "cell_type": "markdown",
   "metadata": {},
   "source": [
    "Соберем входные данные (каналы растров), которые будут использоваться для обучения:"
   ]
  },
  {
   "cell_type": "code",
   "execution_count": 6,
   "metadata": {},
   "outputs": [
    {
     "data": {
      "text/plain": [
       "['toar1@PERMANENT',\n",
       " 'toar10@PERMANENT',\n",
       " 'toar11@PERMANENT',\n",
       " 'toar2@PERMANENT',\n",
       " 'toar3@PERMANENT',\n",
       " 'toar4@PERMANENT',\n",
       " 'toar5@PERMANENT',\n",
       " 'toar6@PERMANENT',\n",
       " 'toar7@PERMANENT',\n",
       " 'toar8@PERMANENT',\n",
       " 'toar9@PERMANENT']"
      ]
     },
     "execution_count": 6,
     "metadata": {},
     "output_type": "execute_result"
    }
   ],
   "source": [
    "inputs = grs.grass.list_strings('rast', pattern=\"toar*\")\n",
    "inputs"
   ]
  },
  {
   "cell_type": "raw",
   "metadata": {},
   "source": [
    "['toar1@PERMANENT',\n",
    " 'toar10@PERMANENT',\n",
    " 'toar11@PERMANENT',\n",
    " 'toar2@PERMANENT',\n",
    " 'toar3@PERMANENT',\n",
    " 'toar4@PERMANENT',\n",
    " 'toar5@PERMANENT',\n",
    " 'toar6@PERMANENT',\n",
    " 'toar7@PERMANENT',\n",
    " 'toar8@PERMANENT',\n",
    " 'toar9@PERMANENT']"
   ]
  },
  {
   "cell_type": "code",
   "execution_count": 7,
   "metadata": {
    "collapsed": true
   },
   "outputs": [],
   "source": [
    "output=['train']"
   ]
  },
  {
   "cell_type": "markdown",
   "metadata": {},
   "source": [
    "Изменим разрешение растров для скорости работы:"
   ]
  },
  {
   "cell_type": "code",
   "execution_count": 8,
   "metadata": {},
   "outputs": [
    {
     "name": "stdout",
     "output_type": "stream",
     "text": [
      "projection: 1 (UTM)\n",
      "zone:       19\n",
      "datum:      wgs84\n",
      "ellipsoid:  wgs84\n",
      "north:      -1162785\n",
      "south:      -1395315\n",
      "west:       429885\n",
      "east:       658515\n",
      "nsres:      89.98839009\n",
      "ewres:      90.01181102\n",
      "rows:       2584\n",
      "cols:       2540\n",
      "cells:      6563360\n",
      "\n"
     ]
    }
   ],
   "source": [
    "print grs.grass.read_command('g.region', rast='B1', res=90, flags='p')"
   ]
  },
  {
   "cell_type": "code",
   "execution_count": 9,
   "metadata": {},
   "outputs": [
    {
     "data": {
      "text/plain": [
       "(6563360, 12)"
      ]
     },
     "execution_count": 9,
     "metadata": {},
     "output_type": "execute_result"
    }
   ],
   "source": [
    "data = grs.rasters_to_array(inputs+output)\n",
    "data.shape"
   ]
  },
  {
   "cell_type": "markdown",
   "metadata": {},
   "source": [
    "Были считаны пиксели, содержащие no-data, удалим их из обучающей выборки."
   ]
  },
  {
   "cell_type": "code",
   "execution_count": 10,
   "metadata": {},
   "outputs": [
    {
     "name": "stdout",
     "output_type": "stream",
     "text": [
      "[False False False ..., False False False]\n"
     ]
    }
   ],
   "source": [
    "good_rows = np.all(~np.isnan(data), axis=1)\n",
    "print(good_rows)"
   ]
  },
  {
   "cell_type": "code",
   "execution_count": 11,
   "metadata": {},
   "outputs": [
    {
     "data": {
      "text/plain": [
       "(588, 12)"
      ]
     },
     "execution_count": 11,
     "metadata": {},
     "output_type": "execute_result"
    }
   ],
   "source": [
    "data = data[good_rows, ]\n",
    "data.shape"
   ]
  },
  {
   "cell_type": "code",
   "execution_count": 12,
   "metadata": {},
   "outputs": [
    {
     "name": "stdout",
     "output_type": "stream",
     "text": [
      "(588, 11)\n",
      "(588,)\n"
     ]
    }
   ],
   "source": [
    "X_train = data[:, :-1]\n",
    "print(X_train.shape)\n",
    "y_train = data[:, -1]\n",
    "print(y_train.shape)"
   ]
  },
  {
   "cell_type": "code",
   "execution_count": null,
   "metadata": {},
   "outputs": [],
   "source": []
  },
  {
   "cell_type": "markdown",
   "metadata": {},
   "source": [
    "## Случайный лес"
   ]
  },
  {
   "cell_type": "code",
   "execution_count": 13,
   "metadata": {
    "collapsed": true
   },
   "outputs": [],
   "source": [
    "from sklearn.ensemble import RandomForestClassifier"
   ]
  },
  {
   "cell_type": "code",
   "execution_count": 14,
   "metadata": {},
   "outputs": [],
   "source": [
    "forest = RandomForestClassifier(n_estimators=10, max_depth=3, random_state=1, n_jobs=3)"
   ]
  },
  {
   "cell_type": "code",
   "execution_count": 15,
   "metadata": {},
   "outputs": [
    {
     "data": {
      "text/plain": [
       "RandomForestClassifier(bootstrap=True, class_weight=None, criterion='gini',\n",
       "            max_depth=3, max_features='auto', max_leaf_nodes=None,\n",
       "            min_impurity_split=1e-07, min_samples_leaf=1,\n",
       "            min_samples_split=2, min_weight_fraction_leaf=0.0,\n",
       "            n_estimators=10, n_jobs=3, oob_score=False, random_state=1,\n",
       "            verbose=0, warm_start=False)"
      ]
     },
     "execution_count": 15,
     "metadata": {},
     "output_type": "execute_result"
    }
   ],
   "source": [
    "forest.fit(X_train, y_train)"
   ]
  },
  {
   "cell_type": "code",
   "execution_count": null,
   "metadata": {
    "collapsed": true
   },
   "outputs": [],
   "source": []
  },
  {
   "cell_type": "code",
   "execution_count": 16,
   "metadata": {},
   "outputs": [
    {
     "name": "stdout",
     "output_type": "stream",
     "text": [
      "[[ 48   2]\n",
      " [  0 538]]\n"
     ]
    }
   ],
   "source": [
    "y_pred = forest.predict(X_train)\n",
    "print confusion_matrix(y_train, y_pred)"
   ]
  },
  {
   "cell_type": "code",
   "execution_count": 17,
   "metadata": {},
   "outputs": [],
   "source": [
    "X = grs.rasters_to_array(inputs)\n",
    "y = forest.predict(X)\n",
    "\n",
    "grs.grass.run_command('g.remove', type='rast', name='forest.result90m', flags='f')\n",
    "grs.array_to_rast(arr=y, map_name='forest.result90m')"
   ]
  },
  {
   "cell_type": "code",
   "execution_count": 18,
   "metadata": {},
   "outputs": [
    {
     "data": {
      "text/plain": [
       "0"
      ]
     },
     "execution_count": 18,
     "metadata": {},
     "output_type": "execute_result"
    }
   ],
   "source": [
    "grs.grass.run_command('r.out.gdal', input='forest.result90m', output='forest.result90m.tif', overwrite=True)"
   ]
  },
  {
   "cell_type": "markdown",
   "metadata": {},
   "source": [
    "## Обучение с перекрестной проверкой"
   ]
  },
  {
   "cell_type": "markdown",
   "metadata": {},
   "source": [
    "Обучим модель \"по-правильному\" с использованием перекрестной проверки и тестового множества."
   ]
  },
  {
   "cell_type": "code",
   "execution_count": 19,
   "metadata": {},
   "outputs": [
    {
     "data": {
      "text/plain": [
       "(588, 11)"
      ]
     },
     "execution_count": 19,
     "metadata": {},
     "output_type": "execute_result"
    }
   ],
   "source": [
    "data = grs.rasters_to_array(inputs+output)\n",
    "good_rows = np.all(~np.isnan(data), axis=1)\n",
    "data = data[good_rows, ]\n",
    "\n",
    "X = data[:, :-1]\n",
    "y = data[:, -1]\n",
    "\n",
    "X.shape"
   ]
  },
  {
   "cell_type": "markdown",
   "metadata": {},
   "source": [
    "Собственно разбиение на множества:"
   ]
  },
  {
   "cell_type": "code",
   "execution_count": 20,
   "metadata": {},
   "outputs": [],
   "source": [
    "X_train, X_test, y_train, y_test = sk.model_selection.train_test_split(X, y, test_size=0.33, random_state=1)"
   ]
  },
  {
   "cell_type": "code",
   "execution_count": 21,
   "metadata": {},
   "outputs": [
    {
     "data": {
      "text/plain": [
       "(393, 11)"
      ]
     },
     "execution_count": 21,
     "metadata": {},
     "output_type": "execute_result"
    }
   ],
   "source": [
    "X_train.shape"
   ]
  },
  {
   "cell_type": "markdown",
   "metadata": {},
   "source": [
    "Обучим одну модель (случайный лес, параметры по умолчанию), оценим ошибку и ее разброс при помощи перекрестной проверки:"
   ]
  },
  {
   "cell_type": "code",
   "execution_count": 22,
   "metadata": {},
   "outputs": [
    {
     "name": "stdout",
     "output_type": "stream",
     "text": [
      "CV accuracy scores: [ 1.          0.975       0.975       1.          1.          0.97435897\n",
      "  0.97435897  1.          1.          1.        ]\n",
      "CV accuracy: 0.990 +/- 0.025\n"
     ]
    }
   ],
   "source": [
    "pipe_forest = Pipeline([\n",
    "        # ('pca', PCA(n_components=10)), \n",
    "        ('clf', RandomForestClassifier(random_state=1, max_depth=3, n_jobs=3))\n",
    "])\n",
    "\n",
    "\n",
    "scores = sk.model_selection.cross_val_score(\n",
    "    estimator=pipe_forest,\n",
    "    X=X_train,\n",
    "    y=y_train,\n",
    "    cv=10\n",
    ")\n",
    "\n",
    "print('CV accuracy scores: %s' % scores)\n",
    "print('CV accuracy: %.3f +/- %.3f' % (np.mean(scores), np.std(scores) * 2))"
   ]
  },
  {
   "cell_type": "markdown",
   "metadata": {},
   "source": [
    "Проверим качество на теством множестве:"
   ]
  },
  {
   "cell_type": "code",
   "execution_count": 23,
   "metadata": {},
   "outputs": [
    {
     "data": {
      "text/plain": [
       "array([[ 15,   0],\n",
       "       [  0, 180]])"
      ]
     },
     "execution_count": 23,
     "metadata": {},
     "output_type": "execute_result"
    }
   ],
   "source": [
    "pipe_forest.fit(X_train, y_train)\n",
    "y_pred = pipe_forest.predict(X_test)\n",
    "confusion_matrix(y_test, y_pred)"
   ]
  },
  {
   "cell_type": "markdown",
   "metadata": {
    "collapsed": true
   },
   "source": [
    "При помощи перекрестной проверки найдем модель с оптимальным числом деревьев в лесу:"
   ]
  },
  {
   "cell_type": "code",
   "execution_count": 24,
   "metadata": {},
   "outputs": [
    {
     "name": "stdout",
     "output_type": "stream",
     "text": [
      "0.989821882952\n",
      "{'clf__n_estimators': 3}\n"
     ]
    }
   ],
   "source": [
    "param_range = [3, 5, 9, 15]\n",
    "param_grid = [{'clf__n_estimators': param_range}]\n",
    "gs = GridSearchCV(\n",
    "    estimator=pipe_forest,\n",
    "    param_grid=param_grid,\n",
    "    scoring='accuracy',\n",
    "    cv=10\n",
    ")\n",
    "gs = gs.fit(X_train, y_train)\n",
    "print(gs.best_score_)\n",
    "print(gs.best_params_)"
   ]
  },
  {
   "cell_type": "markdown",
   "metadata": {},
   "source": [
    "### Прогноз"
   ]
  },
  {
   "cell_type": "markdown",
   "metadata": {},
   "source": [
    "Проверим результат на тестовом множестве:"
   ]
  },
  {
   "cell_type": "code",
   "execution_count": 25,
   "metadata": {},
   "outputs": [
    {
     "data": {
      "text/plain": [
       "array([[ 15,   0],\n",
       "       [  0, 180]])"
      ]
     },
     "execution_count": 25,
     "metadata": {},
     "output_type": "execute_result"
    }
   ],
   "source": [
    "best_model = gs.best_estimator_\n",
    "y_pred = best_model.predict(X_test)\n",
    "confusion_matrix(y_test, y_pred)"
   ]
  },
  {
   "cell_type": "markdown",
   "metadata": {},
   "source": [
    "Запустим работу модели на всех данных, сохраним результаты в растры:"
   ]
  },
  {
   "cell_type": "code",
   "execution_count": 26,
   "metadata": {},
   "outputs": [
    {
     "data": {
      "text/plain": [
       "0"
      ]
     },
     "execution_count": 26,
     "metadata": {},
     "output_type": "execute_result"
    }
   ],
   "source": [
    "X = grs.rasters_to_array(inputs)\n",
    "y = best_model.predict(X)\n",
    "\n",
    "grs.grass.run_command('g.remove', type='rast', name='forest1.result90m', flags='f')\n",
    "grs.array_to_rast(arr=y, map_name='forest1.result90m')\n",
    "\n",
    "grs.grass.run_command('r.out.gdal', input='forest1.result90m', output='forest1.result90m.tif', overwrite=True)"
   ]
  },
  {
   "cell_type": "markdown",
   "metadata": {
    "collapsed": true
   },
   "source": [
    "## Всеми любимые нейросети"
   ]
  },
  {
   "cell_type": "code",
   "execution_count": 27,
   "metadata": {
    "collapsed": true
   },
   "outputs": [],
   "source": [
    "from sklearn.neural_network import MLPClassifier\n",
    "from sklearn.preprocessing import StandardScaler"
   ]
  },
  {
   "cell_type": "code",
   "execution_count": 28,
   "metadata": {},
   "outputs": [],
   "source": [
    "data = grs.rasters_to_array(inputs+output)\n",
    "good_rows = np.all(~np.isnan(data), axis=1)\n",
    "data = data[good_rows, ]\n",
    "\n",
    "X = data[:, :-1]\n",
    "y = data[:, -1]\n",
    "\n",
    "X_train, X_test, y_train, y_test = sk.model_selection.train_test_split(X, y, test_size=0.33, random_state=1)"
   ]
  },
  {
   "cell_type": "code",
   "execution_count": 29,
   "metadata": {},
   "outputs": [
    {
     "name": "stderr",
     "output_type": "stream",
     "text": [
      "/usr/local/lib/python2.7/dist-packages/sklearn/neural_network/multilayer_perceptron.py:563: ConvergenceWarning: Stochastic Optimizer: Maximum iterations reached and the optimization hasn't converged yet.\n",
      "  % (), ConvergenceWarning)\n"
     ]
    },
    {
     "name": "stdout",
     "output_type": "stream",
     "text": [
      "CV accuracy scores: [ 0.9         0.825       0.8         0.825       0.825       0.8974359\n",
      "  0.87179487  0.84615385  0.84210526  0.89473684]\n",
      "CV accuracy: 0.853 +/- 0.068\n"
     ]
    }
   ],
   "source": [
    "pipe_net = Pipeline([\n",
    "        ('norm', StandardScaler()),\n",
    "        ('clf', MLPClassifier(max_iter=200, hidden_layer_sizes=(5, 2), alpha=0.01, random_state=1))\n",
    "])\n",
    "\n",
    "scores = sk.model_selection.cross_val_score(\n",
    "    estimator=pipe_net,\n",
    "    X=X_train,\n",
    "    y=y_train,\n",
    "    cv=10\n",
    ")\n",
    "\n",
    "print('CV accuracy scores: %s' % scores)\n",
    "print('CV accuracy: %.3f +/- %.3f' % (np.mean(scores), np.std(scores) * 2))"
   ]
  },
  {
   "cell_type": "code",
   "execution_count": 30,
   "metadata": {},
   "outputs": [
    {
     "data": {
      "text/plain": [
       "array([[ 15,   0],\n",
       "       [ 44, 136]])"
      ]
     },
     "execution_count": 30,
     "metadata": {},
     "output_type": "execute_result"
    }
   ],
   "source": [
    "pipe_net.fit(X_train, y_train)\n",
    "y_pred = pipe_net.predict(X_test)\n",
    "confusion_matrix(y_test, y_pred)"
   ]
  },
  {
   "cell_type": "markdown",
   "metadata": {},
   "source": [
    "Оптимальное число слоев:"
   ]
  },
  {
   "cell_type": "code",
   "execution_count": 31,
   "metadata": {},
   "outputs": [
    {
     "name": "stdout",
     "output_type": "stream",
     "text": [
      "0.989821882952\n",
      "{'clf__hidden_layer_sizes': (10,)}\n"
     ]
    }
   ],
   "source": [
    "param_range = [(3, ), (10,), (20,), (3, 2), (5, 3), (9, 5), (15, 7)]\n",
    "param_grid = [{'clf__hidden_layer_sizes': param_range}]\n",
    "gs = GridSearchCV(\n",
    "    estimator=pipe_net,\n",
    "    param_grid=param_grid,\n",
    "    scoring='accuracy',\n",
    "    cv=10\n",
    ")\n",
    "gs = gs.fit(X_train, y_train)\n",
    "print(gs.best_score_)\n",
    "print(gs.best_params_)"
   ]
  },
  {
   "cell_type": "code",
   "execution_count": 32,
   "metadata": {},
   "outputs": [
    {
     "data": {
      "text/plain": [
       "array([[ 15,   0],\n",
       "       [  0, 180]])"
      ]
     },
     "execution_count": 32,
     "metadata": {},
     "output_type": "execute_result"
    }
   ],
   "source": [
    "best_model = gs.best_estimator_\n",
    "y_pred = best_model.predict(X_test)\n",
    "confusion_matrix(y_test, y_pred)"
   ]
  },
  {
   "cell_type": "code",
   "execution_count": 33,
   "metadata": {},
   "outputs": [
    {
     "data": {
      "text/plain": [
       "0"
      ]
     },
     "execution_count": 33,
     "metadata": {},
     "output_type": "execute_result"
    }
   ],
   "source": [
    "X = grs.rasters_to_array(inputs)\n",
    "y = best_model.predict(X)\n",
    "\n",
    "grs.grass.run_command('g.remove', type='rast', name='net.result90m', flags='f')\n",
    "grs.array_to_rast(arr=y, map_name='net.result90m')\n",
    "\n",
    "grs.grass.run_command('r.out.gdal', input='net.result90m', output='net.result90m.tif', overwrite=True)"
   ]
  }
 ],
 "metadata": {
  "kernelspec": {
   "display_name": "Python 2",
   "language": "python",
   "name": "python2"
  },
  "language_info": {
   "codemirror_mode": {
    "name": "ipython",
    "version": 2
   },
   "file_extension": ".py",
   "mimetype": "text/x-python",
   "name": "python",
   "nbconvert_exporter": "python",
   "pygments_lexer": "ipython2",
   "version": "2.7.12"
  }
 },
 "nbformat": 4,
 "nbformat_minor": 1
}
